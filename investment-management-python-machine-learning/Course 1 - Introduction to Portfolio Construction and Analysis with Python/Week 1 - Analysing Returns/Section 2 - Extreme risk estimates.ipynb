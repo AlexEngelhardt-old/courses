{
 "cells": [
  {
   "cell_type": "code",
   "execution_count": 1,
   "metadata": {},
   "outputs": [],
   "source": [
    "import numpy as np\n",
    "import pandas as pd\n",
    "from numpy.random import randn\n",
    "\n",
    "import edhec_risk_kit as erk\n",
    "\n",
    "%matplotlib inline\n",
    "\n",
    "%load_ext autoreload\n",
    "%autoreload 2"
   ]
  },
  {
   "cell_type": "markdown",
   "metadata": {},
   "source": [
    "- The normal distribution underestimates the risk for extreme returns.\n",
    "- Look at higher-order moments: skewness and kurtosis\n",
    "- Some hedge fund strategies (e.g. Convertible Arb) have strong negative skewness (think -2.7) and strong positive kurtosis (think 23.3).\n",
    "  - This is what \"Picking up pennies in front of a steamroller\" means, I think\n",
    "  - Most days your return is slightly above average, but there are heavy negative outlier days too\n",
    "  - Negative skewness means the negative outliers are more severe than the positive ones\n",
    "- **High negative skewness implies that the symmetric std does not capture downside risk completely!**"
   ]
  },
  {
   "cell_type": "markdown",
   "metadata": {},
   "source": [
    "### Histogram of negatively skewed (theta = -2.5) random variable\n",
    "\n",
    "[Method](https://pdfs.semanticscholar.org/5198/32c082b6265827205c97764cf77f705a979c.pdf)\n",
    "\n",
    "I didn't manage to simulate a high-kurtosis RV (as described [here](https://stats.stackexchange.com/a/43487/2091))"
   ]
  },
  {
   "cell_type": "code",
   "execution_count": 2,
   "metadata": {},
   "outputs": [],
   "source": [
    "n = 1000\n",
    "theta = -2.5  # negative skewness\n",
    "U = randn(n)\n",
    "V = randn(n)\n",
    "X = (theta * np.abs(U) + V) / np.sqrt(1 + theta**2)"
   ]
  },
  {
   "cell_type": "code",
   "execution_count": 3,
   "metadata": {
    "scrolled": false
   },
   "outputs": [
    {
     "data": {
      "text/plain": [
       "<matplotlib.axes._subplots.AxesSubplot at 0x7f1a31306208>"
      ]
     },
     "execution_count": 3,
     "metadata": {},
     "output_type": "execute_result"
    },
    {
     "data": {
      "image/png": "[encoded data removed]",
      "text/plain": [
       "<Figure size 432x288 with 1 Axes>"
      ]
     },
     "metadata": {
      "needs_background": "light"
     },
     "output_type": "display_data"
    }
   ],
   "source": [
    "pd.Series(X).hist()"
   ]
  },
  {
   "cell_type": "markdown",
   "metadata": {},
   "source": [
    "### Semi-volatility / semi-deviation\n",
    "\n",
    "- The volatility of the subsample of below-average (or below-zero) returns\n",
    "- Important for asymmetric distributions\n",
    "- Because we don't care about upside volatility, in fact we welcome it\n",
    "\n",
    "### Value at Risk (VaR)\n",
    "\n",
    "- Maximum \"expected\" loss over a given time period\n",
    "- You must define a confidence level, e.g. 99%\n",
    "- Exclude 1% worst losses, then compute the worst-case\n",
    "- errrm, it's just the (absolute value of the) 1% quantile of the return distribution for a specified time period (e.g. weekly)\n",
    "\n",
    "### Distribution beyond VaR / CVaR\n",
    "\n",
    "- Expected shortfall (loss) if you fall below the VaR\n",
    "- $CVaR = -E(R|R \\leq -VaR)$"
   ]
  },
  {
   "cell_type": "markdown",
   "metadata": {},
   "source": [
    "----\n",
    "\n",
    "### Using the ERK module"
   ]
  },
  {
   "cell_type": "code",
   "execution_count": 4,
   "metadata": {},
   "outputs": [],
   "source": [
    "returns = erk.get_ffme_returns()"
   ]
  },
  {
   "cell_type": "code",
   "execution_count": 5,
   "metadata": {},
   "outputs": [
    {
     "data": {
      "text/html": [
       "<div>\n",
       "<style scoped>\n",
       "    .dataframe tbody tr th:only-of-type {\n",
       "        vertical-align: middle;\n",
       "    }\n",
       "\n",
       "    .dataframe tbody tr th {\n",
       "        vertical-align: top;\n",
       "    }\n",
       "\n",
       "    .dataframe thead th {\n",
       "        text-align: right;\n",
       "    }\n",
       "</style>\n",
       "<table border=\"1\" class=\"dataframe\">\n",
       "  <thead>\n",
       "    <tr style=\"text-align: right;\">\n",
       "      <th></th>\n",
       "      <th>Wealth</th>\n",
       "      <th>Previous Peak</th>\n",
       "      <th>Drawdown</th>\n",
       "    </tr>\n",
       "    <tr>\n",
       "      <th>date</th>\n",
       "      <th></th>\n",
       "      <th></th>\n",
       "      <th></th>\n",
       "    </tr>\n",
       "  </thead>\n",
       "  <tbody>\n",
       "    <tr>\n",
       "      <th>1926-07</th>\n",
       "      <td>9.855000e+02</td>\n",
       "      <td>9.855000e+02</td>\n",
       "      <td>0.000000</td>\n",
       "    </tr>\n",
       "    <tr>\n",
       "      <th>1926-08</th>\n",
       "      <td>1.035958e+03</td>\n",
       "      <td>1.035958e+03</td>\n",
       "      <td>0.000000</td>\n",
       "    </tr>\n",
       "    <tr>\n",
       "      <th>1926-09</th>\n",
       "      <td>1.045592e+03</td>\n",
       "      <td>1.045592e+03</td>\n",
       "      <td>0.000000</td>\n",
       "    </tr>\n",
       "    <tr>\n",
       "      <th>1926-10</th>\n",
       "      <td>9.949854e+02</td>\n",
       "      <td>1.045592e+03</td>\n",
       "      <td>-0.048400</td>\n",
       "    </tr>\n",
       "    <tr>\n",
       "      <th>1926-11</th>\n",
       "      <td>9.872245e+02</td>\n",
       "      <td>1.045592e+03</td>\n",
       "      <td>-0.055822</td>\n",
       "    </tr>\n",
       "    <tr>\n",
       "      <th>...</th>\n",
       "      <td>...</td>\n",
       "      <td>...</td>\n",
       "      <td>...</td>\n",
       "    </tr>\n",
       "    <tr>\n",
       "      <th>2019-10</th>\n",
       "      <td>1.711126e+09</td>\n",
       "      <td>2.218118e+09</td>\n",
       "      <td>-0.228569</td>\n",
       "    </tr>\n",
       "    <tr>\n",
       "      <th>2019-11</th>\n",
       "      <td>1.733370e+09</td>\n",
       "      <td>2.218118e+09</td>\n",
       "      <td>-0.218540</td>\n",
       "    </tr>\n",
       "    <tr>\n",
       "      <th>2019-12</th>\n",
       "      <td>1.844306e+09</td>\n",
       "      <td>2.218118e+09</td>\n",
       "      <td>-0.168527</td>\n",
       "    </tr>\n",
       "    <tr>\n",
       "      <th>2020-01</th>\n",
       "      <td>1.888016e+09</td>\n",
       "      <td>2.218118e+09</td>\n",
       "      <td>-0.148821</td>\n",
       "    </tr>\n",
       "    <tr>\n",
       "      <th>2020-02</th>\n",
       "      <td>1.795503e+09</td>\n",
       "      <td>2.218118e+09</td>\n",
       "      <td>-0.190529</td>\n",
       "    </tr>\n",
       "  </tbody>\n",
       "</table>\n",
       "<p>1124 rows × 3 columns</p>\n",
       "</div>"
      ],
      "text/plain": [
       "               Wealth  Previous Peak  Drawdown\n",
       "date                                          \n",
       "1926-07  9.855000e+02   9.855000e+02  0.000000\n",
       "1926-08  1.035958e+03   1.035958e+03  0.000000\n",
       "1926-09  1.045592e+03   1.045592e+03  0.000000\n",
       "1926-10  9.949854e+02   1.045592e+03 -0.048400\n",
       "1926-11  9.872245e+02   1.045592e+03 -0.055822\n",
       "...               ...            ...       ...\n",
       "2019-10  1.711126e+09   2.218118e+09 -0.228569\n",
       "2019-11  1.733370e+09   2.218118e+09 -0.218540\n",
       "2019-12  1.844306e+09   2.218118e+09 -0.168527\n",
       "2020-01  1.888016e+09   2.218118e+09 -0.148821\n",
       "2020-02  1.795503e+09   2.218118e+09 -0.190529\n",
       "\n",
       "[1124 rows x 3 columns]"
      ]
     },
     "execution_count": 5,
     "metadata": {},
     "output_type": "execute_result"
    }
   ],
   "source": [
    "erk.drawdown(returns['SmallCap'])"
   ]
  },
  {
   "cell_type": "markdown",
   "metadata": {},
   "source": [
    "----\n",
    "\n",
    "### The EDHEC hedge fund indices"
   ]
  },
  {
   "cell_type": "code",
   "execution_count": 9,
   "metadata": {},
   "outputs": [],
   "source": [
    "hfi = erk.get_hfi_returns()"
   ]
  },
  {
   "cell_type": "markdown",
   "metadata": {},
   "source": [
    "Check it out, negative skewness and heavy kurtosis!"
   ]
  },
  {
   "cell_type": "code",
   "execution_count": 11,
   "metadata": {},
   "outputs": [
    {
     "data": {
      "text/plain": [
       "<matplotlib.axes._subplots.AxesSubplot at 0x7f1a2ec30470>"
      ]
     },
     "execution_count": 11,
     "metadata": {},
     "output_type": "execute_result"
    },
    {
     "data": {
      "image/png": "[encoded data removed]",
      "text/plain": [
       "<Figure size 432x288 with 1 Axes>"
      ]
     },
     "metadata": {
      "needs_background": "light"
     },
     "output_type": "display_data"
    }
   ],
   "source": [
    "hfi['Fixed Income Arbitrage'].hist(bins=100)"
   ]
  },
  {
   "cell_type": "code",
   "execution_count": null,
   "metadata": {},
   "outputs": [],
   "source": []
  }
 ],
 "metadata": {
  "kernelspec": {
   "display_name": "Python 3",
   "language": "python",
   "name": "python3"
  },
  "language_info": {
   "codemirror_mode": {
    "name": "ipython",
    "version": 3
   },
   "file_extension": ".py",
   "mimetype": "text/x-python",
   "name": "python",
   "nbconvert_exporter": "python",
   "pygments_lexer": "ipython3",
   "version": "3.6.9"
  }
 },
 "nbformat": 4,
 "nbformat_minor": 2
}
