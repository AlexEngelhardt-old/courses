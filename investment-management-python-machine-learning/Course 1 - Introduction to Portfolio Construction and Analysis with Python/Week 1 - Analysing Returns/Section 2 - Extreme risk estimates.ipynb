{
 "cells": [
  {
   "cell_type": "code",
   "execution_count": 1,
   "metadata": {},
   "outputs": [],
   "source": [
    "import numpy as np\n",
    "import pandas as pd\n",
    "from numpy.random import randn\n",
    "\n",
    "import edhec_risk_kit as erk\n",
    "\n",
    "%matplotlib inline\n",
    "\n",
    "%load_ext autoreload\n",
    "%autoreload 2"
   ]
  },
  {
   "cell_type": "markdown",
   "metadata": {},
   "source": [
    "- The normal distribution underestimates the risk for extreme returns.\n",
    "- Look at higher-order moments: skewness and kurtosis\n",
    "- Some hedge fund strategies (e.g. Convertible Arb) have strong negative skewness (think -2.7) and strong positive kurtosis (think 23.3).\n",
    "  - This is what \"Picking up pennies in front of a steamroller\" means, I think\n",
    "  - Most days your return is slightly above average, but there are heavy negative outlier days too\n",
    "  - Negative skewness means the negative outliers are more severe than the positive ones\n",
    "- **High negative skewness implies that the symmetric std does not capture downside risk completely!**"
   ]
  },
  {
   "cell_type": "markdown",
   "metadata": {},
   "source": [
    "### Histogram of negatively skewed (theta = -2.5) random variable\n",
    "\n",
    "[Method](https://pdfs.semanticscholar.org/5198/32c082b6265827205c97764cf77f705a979c.pdf)\n",
    "\n",
    "I didn't manage to simulate a high-kurtosis RV (as described [here](https://stats.stackexchange.com/a/43487/2091))"
   ]
  },
  {
   "cell_type": "code",
   "execution_count": 2,
   "metadata": {},
   "outputs": [],
   "source": [
    "n = 1000\n",
    "theta = -2.5  # negative skewness\n",
    "U = randn(n)\n",
    "V = randn(n)\n",
    "X = (theta * np.abs(U) + V) / np.sqrt(1 + theta**2)"
   ]
  },
  {
   "cell_type": "code",
   "execution_count": 3,
   "metadata": {
    "scrolled": false
   },
   "outputs": [
    {
     "data": {
      "text/plain": [
       "<matplotlib.axes._subplots.AxesSubplot at 0x7f30dc6b4b38>"
      ]
     },
     "execution_count": 3,
     "metadata": {},
     "output_type": "execute_result"
    },
    {
     "data": {
      "image/png": "[encoded data removed]",
      "text/plain": [
       "<Figure size 432x288 with 1 Axes>"
      ]
     },
     "metadata": {
      "needs_background": "light"
     },
     "output_type": "display_data"
    }
   ],
   "source": [
    "pd.Series(X).hist()"
   ]
  },
  {
   "cell_type": "markdown",
   "metadata": {},
   "source": [
    "### Semi-volatility / semi-deviation\n",
    "\n",
    "- The volatility of the subsample of below-average (or below-zero) returns\n",
    "- Important for asymmetric distributions\n",
    "- Because we don't care about upside volatility, in fact we welcome it\n",
    "\n",
    "### Value at Risk (VaR)\n",
    "\n",
    "- Maximum \"expected\" loss over a given time period\n",
    "- You must define a confidence level, e.g. 99%\n",
    "- Exclude 1% worst losses, then compute the worst-case\n",
    "- errrm, it's just the (absolute value of the) 1% quantile of the return distribution for a specified time period (e.g. weekly)\n",
    "\n",
    "### Distribution beyond VaR / CVaR\n",
    "\n",
    "- Expected shortfall (loss) if you fall below the VaR\n",
    "- $CVaR = -E(R|R \\leq -VaR)$"
   ]
  },
  {
   "cell_type": "markdown",
   "metadata": {},
   "source": [
    "----\n",
    "\n",
    "### Using the ERK module"
   ]
  },
  {
   "cell_type": "code",
   "execution_count": 4,
   "metadata": {},
   "outputs": [],
   "source": [
    "returns = erk.get_ffme_returns()"
   ]
  },
  {
   "cell_type": "code",
   "execution_count": 5,
   "metadata": {},
   "outputs": [
    {
     "data": {
      "text/html": [
       "<div>\n",
       "<style scoped>\n",
       "    .dataframe tbody tr th:only-of-type {\n",
       "        vertical-align: middle;\n",
       "    }\n",
       "\n",
       "    .dataframe tbody tr th {\n",
       "        vertical-align: top;\n",
       "    }\n",
       "\n",
       "    .dataframe thead th {\n",
       "        text-align: right;\n",
       "    }\n",
       "</style>\n",
       "<table border=\"1\" class=\"dataframe\">\n",
       "  <thead>\n",
       "    <tr style=\"text-align: right;\">\n",
       "      <th></th>\n",
       "      <th>Wealth</th>\n",
       "      <th>Previous Peak</th>\n",
       "      <th>Drawdown</th>\n",
       "    </tr>\n",
       "    <tr>\n",
       "      <th>date</th>\n",
       "      <th></th>\n",
       "      <th></th>\n",
       "      <th></th>\n",
       "    </tr>\n",
       "  </thead>\n",
       "  <tbody>\n",
       "    <tr>\n",
       "      <th>1926-07</th>\n",
       "      <td>9.855000e+02</td>\n",
       "      <td>9.855000e+02</td>\n",
       "      <td>0.000000</td>\n",
       "    </tr>\n",
       "    <tr>\n",
       "      <th>1926-08</th>\n",
       "      <td>1.035958e+03</td>\n",
       "      <td>1.035958e+03</td>\n",
       "      <td>0.000000</td>\n",
       "    </tr>\n",
       "    <tr>\n",
       "      <th>1926-09</th>\n",
       "      <td>1.045592e+03</td>\n",
       "      <td>1.045592e+03</td>\n",
       "      <td>0.000000</td>\n",
       "    </tr>\n",
       "    <tr>\n",
       "      <th>1926-10</th>\n",
       "      <td>9.949854e+02</td>\n",
       "      <td>1.045592e+03</td>\n",
       "      <td>-0.048400</td>\n",
       "    </tr>\n",
       "    <tr>\n",
       "      <th>1926-11</th>\n",
       "      <td>9.872245e+02</td>\n",
       "      <td>1.045592e+03</td>\n",
       "      <td>-0.055822</td>\n",
       "    </tr>\n",
       "    <tr>\n",
       "      <th>...</th>\n",
       "      <td>...</td>\n",
       "      <td>...</td>\n",
       "      <td>...</td>\n",
       "    </tr>\n",
       "    <tr>\n",
       "      <th>2019-10</th>\n",
       "      <td>1.711126e+09</td>\n",
       "      <td>2.218118e+09</td>\n",
       "      <td>-0.228569</td>\n",
       "    </tr>\n",
       "    <tr>\n",
       "      <th>2019-11</th>\n",
       "      <td>1.733370e+09</td>\n",
       "      <td>2.218118e+09</td>\n",
       "      <td>-0.218540</td>\n",
       "    </tr>\n",
       "    <tr>\n",
       "      <th>2019-12</th>\n",
       "      <td>1.844306e+09</td>\n",
       "      <td>2.218118e+09</td>\n",
       "      <td>-0.168527</td>\n",
       "    </tr>\n",
       "    <tr>\n",
       "      <th>2020-01</th>\n",
       "      <td>1.888016e+09</td>\n",
       "      <td>2.218118e+09</td>\n",
       "      <td>-0.148821</td>\n",
       "    </tr>\n",
       "    <tr>\n",
       "      <th>2020-02</th>\n",
       "      <td>1.795503e+09</td>\n",
       "      <td>2.218118e+09</td>\n",
       "      <td>-0.190529</td>\n",
       "    </tr>\n",
       "  </tbody>\n",
       "</table>\n",
       "<p>1124 rows × 3 columns</p>\n",
       "</div>"
      ],
      "text/plain": [
       "               Wealth  Previous Peak  Drawdown\n",
       "date                                          \n",
       "1926-07  9.855000e+02   9.855000e+02  0.000000\n",
       "1926-08  1.035958e+03   1.035958e+03  0.000000\n",
       "1926-09  1.045592e+03   1.045592e+03  0.000000\n",
       "1926-10  9.949854e+02   1.045592e+03 -0.048400\n",
       "1926-11  9.872245e+02   1.045592e+03 -0.055822\n",
       "...               ...            ...       ...\n",
       "2019-10  1.711126e+09   2.218118e+09 -0.228569\n",
       "2019-11  1.733370e+09   2.218118e+09 -0.218540\n",
       "2019-12  1.844306e+09   2.218118e+09 -0.168527\n",
       "2020-01  1.888016e+09   2.218118e+09 -0.148821\n",
       "2020-02  1.795503e+09   2.218118e+09 -0.190529\n",
       "\n",
       "[1124 rows x 3 columns]"
      ]
     },
     "execution_count": 5,
     "metadata": {},
     "output_type": "execute_result"
    }
   ],
   "source": [
    "erk.drawdown(returns['SmallCap'])"
   ]
  },
  {
   "cell_type": "markdown",
   "metadata": {},
   "source": [
    "----\n",
    "\n",
    "### The EDHEC hedge fund indices"
   ]
  },
  {
   "cell_type": "code",
   "execution_count": 6,
   "metadata": {},
   "outputs": [],
   "source": [
    "hfi = erk.get_hfi_returns()"
   ]
  },
  {
   "cell_type": "markdown",
   "metadata": {},
   "source": [
    "Check it out, negative skewness and heavy kurtosis!"
   ]
  },
  {
   "cell_type": "code",
   "execution_count": 7,
   "metadata": {},
   "outputs": [
    {
     "data": {
      "text/plain": [
       "<matplotlib.axes._subplots.AxesSubplot at 0x7f30da5b5908>"
      ]
     },
     "execution_count": 7,
     "metadata": {},
     "output_type": "execute_result"
    },
    {
     "data": {
      "image/png": "[encoded data removed]",
      "text/plain": [
       "<Figure size 432x288 with 1 Axes>"
      ]
     },
     "metadata": {
      "needs_background": "light"
     },
     "output_type": "display_data"
    }
   ],
   "source": [
    "hfi['Fixed Income Arbitrage'].hist(bins=100)"
   ]
  },
  {
   "cell_type": "code",
   "execution_count": 8,
   "metadata": {},
   "outputs": [
    {
     "data": {
      "text/plain": [
       "0.004365019011406845"
      ]
     },
     "execution_count": 8,
     "metadata": {},
     "output_type": "execute_result"
    }
   ],
   "source": [
    "hfi['Fixed Income Arbitrage'].mean()"
   ]
  },
  {
   "cell_type": "code",
   "execution_count": 9,
   "metadata": {},
   "outputs": [
    {
     "data": {
      "text/plain": [
       "0.0055000000000000005"
      ]
     },
     "execution_count": 9,
     "metadata": {},
     "output_type": "execute_result"
    }
   ],
   "source": [
    "hfi['Fixed Income Arbitrage'].median()"
   ]
  },
  {
   "cell_type": "code",
   "execution_count": 10,
   "metadata": {},
   "outputs": [
    {
     "data": {
      "text/plain": [
       "-3.9629586210448275"
      ]
     },
     "execution_count": 10,
     "metadata": {},
     "output_type": "execute_result"
    }
   ],
   "source": [
    "hfi['Fixed Income Arbitrage'].skew()"
   ]
  },
  {
   "cell_type": "code",
   "execution_count": 11,
   "metadata": {},
   "outputs": [
    {
     "data": {
      "text/plain": [
       "27.382747416527913"
      ]
     },
     "execution_count": 11,
     "metadata": {},
     "output_type": "execute_result"
    }
   ],
   "source": [
    "hfi['Fixed Income Arbitrage'].kurtosis()"
   ]
  },
  {
   "cell_type": "markdown",
   "metadata": {},
   "source": [
    "----"
   ]
  },
  {
   "cell_type": "code",
   "execution_count": 12,
   "metadata": {},
   "outputs": [
    {
     "data": {
      "text/plain": [
       "Fixed Income Arbitrage   -3.962959\n",
       "Convertible Arbitrage    -2.654757\n",
       "Equity Market Neutral    -2.136641\n",
       "Relative Value           -1.825900\n",
       "Event Driven             -1.417250\n",
       "Merger Arbitrage         -1.327668\n",
       "Distressed Securities    -1.308316\n",
       "Emerging Markets         -1.173773\n",
       "Long/Short Equity        -0.392469\n",
       "Funds Of Funds           -0.363862\n",
       "CTA Global                0.174697\n",
       "Short Selling             0.772387\n",
       "Global Macro              0.988569\n",
       "dtype: float64"
      ]
     },
     "execution_count": 12,
     "metadata": {},
     "output_type": "execute_result"
    }
   ],
   "source": [
    "hfi.skew().sort_values()"
   ]
  },
  {
   "cell_type": "code",
   "execution_count": 13,
   "metadata": {},
   "outputs": [
    {
     "data": {
      "text/plain": [
       "CTA Global                -0.024781\n",
       "Long/Short Equity          1.576431\n",
       "Global Macro               2.817691\n",
       "Short Selling              3.201032\n",
       "Funds Of Funds             4.171770\n",
       "Distressed Securities      5.007403\n",
       "Event Driven               5.156059\n",
       "Merger Arbitrage           5.872733\n",
       "Emerging Markets           6.394438\n",
       "Relative Value             9.320184\n",
       "Equity Market Neutral     14.515783\n",
       "Convertible Arbitrage     20.694912\n",
       "Fixed Income Arbitrage    27.382747\n",
       "dtype: float64"
      ]
     },
     "execution_count": 13,
     "metadata": {},
     "output_type": "execute_result"
    }
   ],
   "source": [
    "hfi.kurtosis().sort_values()"
   ]
  },
  {
   "cell_type": "markdown",
   "metadata": {},
   "source": [
    "## Test for normality: Jarque-Bera"
   ]
  },
  {
   "cell_type": "code",
   "execution_count": 14,
   "metadata": {},
   "outputs": [],
   "source": [
    "from scipy.stats import jarque_bera"
   ]
  },
  {
   "cell_type": "code",
   "execution_count": 15,
   "metadata": {},
   "outputs": [
    {
     "data": {
      "text/plain": [
       "(1.3467529104392226, 0.5099837302620382)"
      ]
     },
     "execution_count": 15,
     "metadata": {},
     "output_type": "execute_result"
    }
   ],
   "source": [
    "jarque_bera(hfi['CTA Global'])  # (Test statistic, p value)"
   ]
  },
  {
   "cell_type": "code",
   "execution_count": 16,
   "metadata": {},
   "outputs": [
    {
     "data": {
      "text/plain": [
       "(4812.703130094962, 0.0)"
      ]
     },
     "execution_count": 16,
     "metadata": {},
     "output_type": "execute_result"
    }
   ],
   "source": [
    "jarque_bera(hfi['Convertible Arbitrage'])"
   ]
  },
  {
   "cell_type": "markdown",
   "metadata": {},
   "source": [
    "For each column in the HFI data, return whether the p-value is greater than 0.01.\n",
    "\n",
    "(Check out the **aggregate** function!)"
   ]
  },
  {
   "cell_type": "code",
   "execution_count": 17,
   "metadata": {},
   "outputs": [
    {
     "data": {
      "text/plain": [
       "Convertible Arbitrage     False\n",
       "CTA Global                 True\n",
       "Distressed Securities     False\n",
       "Emerging Markets          False\n",
       "Equity Market Neutral     False\n",
       "Event Driven              False\n",
       "Fixed Income Arbitrage    False\n",
       "Global Macro              False\n",
       "Long/Short Equity         False\n",
       "Merger Arbitrage          False\n",
       "Relative Value            False\n",
       "Short Selling             False\n",
       "Funds Of Funds            False\n",
       "dtype: bool"
      ]
     },
     "execution_count": 17,
     "metadata": {},
     "output_type": "execute_result"
    }
   ],
   "source": [
    "def passes_jarque_bera(returns):\n",
    "    return jarque_bera(returns)[1] > 0.01\n",
    "\n",
    "hfi.aggregate(passes_jarque_bera)"
   ]
  },
  {
   "cell_type": "markdown",
   "metadata": {},
   "source": [
    "----"
   ]
  },
  {
   "cell_type": "code",
   "execution_count": 18,
   "metadata": {},
   "outputs": [
    {
     "data": {
      "text/plain": [
       "SmallCap    4.418948\n",
       "LargeCap    0.226780\n",
       "dtype: float64"
      ]
     },
     "execution_count": 18,
     "metadata": {},
     "output_type": "execute_result"
    }
   ],
   "source": [
    "ffme = erk.get_ffme_returns()\n",
    "ffme.skew()"
   ]
  },
  {
   "cell_type": "markdown",
   "metadata": {},
   "source": [
    "**Positive skew** is good! That means the outliers are positive returns more often than not!"
   ]
  },
  {
   "cell_type": "code",
   "execution_count": 19,
   "metadata": {
    "scrolled": true
   },
   "outputs": [
    {
     "data": {
      "text/plain": [
       "SmallCap    44.212285\n",
       "LargeCap     7.699352\n",
       "dtype: float64"
      ]
     },
     "execution_count": 19,
     "metadata": {},
     "output_type": "execute_result"
    }
   ],
   "source": [
    "ffme.kurtosis()"
   ]
  },
  {
   "cell_type": "markdown",
   "metadata": {},
   "source": [
    "The kurtosis of Small Caps is atrocious!"
   ]
  },
  {
   "cell_type": "code",
   "execution_count": 20,
   "metadata": {},
   "outputs": [
    {
     "data": {
      "text/plain": [
       "SmallCap    False\n",
       "LargeCap    False\n",
       "dtype: bool"
      ]
     },
     "execution_count": 20,
     "metadata": {},
     "output_type": "execute_result"
    }
   ],
   "source": [
    "ffme.aggregate(passes_jarque_bera)"
   ]
  },
  {
   "cell_type": "markdown",
   "metadata": {},
   "source": [
    "They're also not normally distributed (duh)."
   ]
  },
  {
   "cell_type": "markdown",
   "metadata": {},
   "source": [
    "# Computing/Estimating VaR\n",
    "\n",
    "There are at least four standard methods:\n",
    "\n",
    "1. Historical (non-parametric)\n",
    "    - Just look at historical returns and take the 5% quantile\n",
    "    - Pro: No assumption, very simple\n",
    "    - Con: You only rely on historical data. Change the time frame a bit, get a much different result\n",
    "      - You're **taking on a lot of sample risk**\n",
    "2. Variance-Covariance (parametric Gaussian)\n",
    "    - parametric: Make assumptions about the return distribution\n",
    "    - Take the 5% quantile of the Gaussian with $\\mu = \\bar{x}$ and $\\sigma = s_x$\n",
    "    - You're **taking on a lot of model risk**, because the Gaussian is a wrong assumption.\n",
    "    - The risk underestimation is higher for higher quantiles (e.g. 99.9% instead of 95%)\n",
    "3. Parametric Non-gaussian\n",
    "    - e.g. Pareto, Student, Log-Gamma, Frechet\n",
    "4. Cornish-Fisher VaR (semi-parametric)\n",
    "    - no distribution assumption\n",
    "    - 1937: Cornish-Fisher expansion\n",
    "      - map the $\\alpha$-quantile of a Gaussian to the $\\alpha$-quantile of an arbitrary distribution with a certain skewness and kurtosis\n",
    "      - **wow!**\n",
    "      - very commonly used method, often the best choice in a **trade-off between sample risk and model risk.**\n",
    "      - $\\tilde{z}_a = z_a + \\frac{1}{6}(z_a^2 - 1)S + \\frac{1}{24}(z_a^3-3z_a)(K-3) - \\frac{1}{36}(2z_a^3-5z_a)S^2$\n",
    "        - S = skew, K = kurtosis\n"
   ]
  },
  {
   "cell_type": "markdown",
   "metadata": {},
   "source": [
    "# Lab session: Semi-deviation, VaR and CVaR\n",
    "\n",
    "### Standard deviation"
   ]
  },
  {
   "cell_type": "code",
   "execution_count": 21,
   "metadata": {},
   "outputs": [
    {
     "data": {
      "text/plain": [
       "Convertible Arbitrage     0.016567\n",
       "CTA Global                0.023335\n",
       "Distressed Securities     0.017042\n",
       "Emerging Markets          0.032538\n",
       "Equity Market Neutral     0.008130\n",
       "Event Driven              0.016744\n",
       "Fixed Income Arbitrage    0.011539\n",
       "Global Macro              0.014722\n",
       "Long/Short Equity         0.019935\n",
       "Merger Arbitrage          0.009619\n",
       "Relative Value            0.011484\n",
       "Short Selling             0.047746\n",
       "Funds Of Funds            0.015566\n",
       "dtype: float64"
      ]
     },
     "execution_count": 21,
     "metadata": {},
     "output_type": "execute_result"
    }
   ],
   "source": [
    "hfi.std()"
   ]
  },
  {
   "cell_type": "markdown",
   "metadata": {},
   "source": [
    "### Semi-deviation"
   ]
  },
  {
   "cell_type": "code",
   "execution_count": 22,
   "metadata": {},
   "outputs": [
    {
     "data": {
      "text/plain": [
       "Convertible Arbitrage     0.019687\n",
       "CTA Global                0.012495\n",
       "Distressed Securities     0.015288\n",
       "Emerging Markets          0.028197\n",
       "Equity Market Neutral     0.009667\n",
       "Event Driven              0.015536\n",
       "Fixed Income Arbitrage    0.017940\n",
       "Global Macro              0.006612\n",
       "Long/Short Equity         0.014133\n",
       "Merger Arbitrage          0.008954\n",
       "Relative Value            0.012355\n",
       "Short Selling             0.027377\n",
       "Funds Of Funds            0.012191\n",
       "dtype: float64"
      ]
     },
     "execution_count": 22,
     "metadata": {},
     "output_type": "execute_result"
    }
   ],
   "source": [
    "hfi[hfi < 0].std()"
   ]
  },
  {
   "cell_type": "markdown",
   "metadata": {},
   "source": [
    "# VaR"
   ]
  },
  {
   "cell_type": "markdown",
   "metadata": {},
   "source": [
    "### Historic VaR"
   ]
  },
  {
   "cell_type": "code",
   "execution_count": 23,
   "metadata": {},
   "outputs": [
    {
     "data": {
      "text/plain": [
       "SmallCap   -0.107085\n",
       "LargeCap   -0.075565\n",
       "Name: 0.05, dtype: float64"
      ]
     },
     "execution_count": 23,
     "metadata": {},
     "output_type": "execute_result"
    }
   ],
   "source": [
    "ffme.quantile(0.05)"
   ]
  },
  {
   "cell_type": "code",
   "execution_count": 24,
   "metadata": {},
   "outputs": [
    {
     "data": {
      "text/plain": [
       "Convertible Arbitrage    -0.01576\n",
       "CTA Global               -0.03169\n",
       "Distressed Securities    -0.01966\n",
       "Emerging Markets         -0.04247\n",
       "Equity Market Neutral    -0.00814\n",
       "Event Driven             -0.02535\n",
       "Fixed Income Arbitrage   -0.00787\n",
       "Global Macro             -0.01499\n",
       "Long/Short Equity        -0.02598\n",
       "Merger Arbitrage         -0.01047\n",
       "Relative Value           -0.01174\n",
       "Short Selling            -0.06783\n",
       "Funds Of Funds           -0.02047\n",
       "Name: 0.05, dtype: float64"
      ]
     },
     "execution_count": 24,
     "metadata": {},
     "output_type": "execute_result"
    }
   ],
   "source": [
    "hfi.quantile(0.05)"
   ]
  },
  {
   "cell_type": "markdown",
   "metadata": {},
   "source": [
    "So the worst 1% of SmallCaps' months lose 20% or more.\n",
    "\n",
    "### Parametric VaR (Gaussian)\n",
    "\n",
    "Because: *We shouldn't take what we saw literally, because it really was just one sample of the many possible ways it could have gone.* So let's treat that as a sample, and impose a model on it."
   ]
  },
  {
   "cell_type": "code",
   "execution_count": 25,
   "metadata": {},
   "outputs": [],
   "source": [
    "from scipy.stats import norm"
   ]
  },
  {
   "cell_type": "code",
   "execution_count": 26,
   "metadata": {},
   "outputs": [
    {
     "data": {
      "text/plain": [
       "-1.6448536269514729"
      ]
     },
     "execution_count": 26,
     "metadata": {},
     "output_type": "execute_result"
    }
   ],
   "source": [
    "z = norm.ppf(0.05)  # ppf == qnorm in R\n",
    "z"
   ]
  },
  {
   "cell_type": "code",
   "execution_count": 27,
   "metadata": {
    "scrolled": true
   },
   "outputs": [
    {
     "data": {
      "text/plain": [
       "SmallCap   -0.156680\n",
       "LargeCap   -0.079553\n",
       "dtype: float64"
      ]
     },
     "execution_count": 27,
     "metadata": {},
     "output_type": "execute_result"
    }
   ],
   "source": [
    "ffme.mean() + z * ffme.std()  # plus because the quantile is negative"
   ]
  },
  {
   "cell_type": "code",
   "execution_count": 28,
   "metadata": {
    "scrolled": true
   },
   "outputs": [
    {
     "data": {
      "text/plain": [
       "Convertible Arbitrage    -0.021743\n",
       "CTA Global               -0.034308\n",
       "Distressed Securities    -0.021085\n",
       "Emerging Markets         -0.047266\n",
       "Equity Market Neutral    -0.008875\n",
       "Event Driven             -0.021196\n",
       "Fixed Income Arbitrage   -0.014615\n",
       "Global Macro             -0.018813\n",
       "Long/Short Equity        -0.026459\n",
       "Merger Arbitrage         -0.010466\n",
       "Relative Value           -0.013097\n",
       "Short Selling            -0.080236\n",
       "Funds Of Funds           -0.021341\n",
       "dtype: float64"
      ]
     },
     "execution_count": 28,
     "metadata": {},
     "output_type": "execute_result"
    }
   ],
   "source": [
    "hfi.mean() + z * hfi.std()  # plus because the quantile is negative"
   ]
  },
  {
   "cell_type": "markdown",
   "metadata": {},
   "source": [
    "### Modified Cornish-Fisher VaR\n",
    "\n",
    "All you do is update $z_\\alpha$ to a new value based on the formula specified above\n",
    "\n",
    "**Note/TODO**: It seems to work well for the HFI data frame, but not at all for the SmallCaps. Why is that?"
   ]
  },
  {
   "cell_type": "code",
   "execution_count": 39,
   "metadata": {},
   "outputs": [
    {
     "data": {
      "text/plain": [
       "SmallCap    4.418948\n",
       "LargeCap    0.226780\n",
       "dtype: float64"
      ]
     },
     "execution_count": 39,
     "metadata": {},
     "output_type": "execute_result"
    }
   ],
   "source": [
    "ffme.skew()"
   ]
  },
  {
   "cell_type": "code",
   "execution_count": 40,
   "metadata": {},
   "outputs": [
    {
     "data": {
      "text/plain": [
       "SmallCap    44.212285\n",
       "LargeCap     7.699352\n",
       "dtype: float64"
      ]
     },
     "execution_count": 40,
     "metadata": {},
     "output_type": "execute_result"
    }
   ],
   "source": [
    "ffme.kurtosis()"
   ]
  },
  {
   "cell_type": "code",
   "execution_count": 29,
   "metadata": {},
   "outputs": [],
   "source": [
    "alpha = 0.05\n",
    "z = norm.ppf(alpha)\n",
    "\n",
    "s = ffme.skew()\n",
    "k = ffme.kurtosis()\n",
    "\n",
    "z_updated = (\n",
    "    z + \n",
    "    (z**2 - 1) * s/6 +\n",
    "    (z**3 - 3*z) * (k-3)/24 -\n",
    "    (2*z**3 - 5*z) * (s**2)/36\n",
    ")"
   ]
  },
  {
   "cell_type": "code",
   "execution_count": 30,
   "metadata": {
    "scrolled": true
   },
   "outputs": [
    {
     "data": {
      "text/plain": [
       "SmallCap    0.809731\n",
       "LargeCap   -1.484587\n",
       "dtype: float64"
      ]
     },
     "execution_count": 30,
     "metadata": {},
     "output_type": "execute_result"
    }
   ],
   "source": [
    "z_updated"
   ]
  },
  {
   "cell_type": "code",
   "execution_count": 31,
   "metadata": {
    "scrolled": true
   },
   "outputs": [
    {
     "data": {
      "text/plain": [
       "SmallCap    0.103206\n",
       "LargeCap   -0.070931\n",
       "dtype: float64"
      ]
     },
     "execution_count": 31,
     "metadata": {},
     "output_type": "execute_result"
    }
   ],
   "source": [
    "ffme.mean() + z_updated * ffme.std()"
   ]
  },
  {
   "cell_type": "markdown",
   "metadata": {},
   "source": [
    "----"
   ]
  },
  {
   "cell_type": "code",
   "execution_count": 37,
   "metadata": {},
   "outputs": [
    {
     "data": {
      "text/plain": [
       "Convertible Arbitrage    -2.654757\n",
       "CTA Global                0.174697\n",
       "Distressed Securities    -1.308316\n",
       "Emerging Markets         -1.173773\n",
       "Equity Market Neutral    -2.136641\n",
       "Event Driven             -1.417250\n",
       "Fixed Income Arbitrage   -3.962959\n",
       "Global Macro              0.988569\n",
       "Long/Short Equity        -0.392469\n",
       "Merger Arbitrage         -1.327668\n",
       "Relative Value           -1.825900\n",
       "Short Selling             0.772387\n",
       "Funds Of Funds           -0.363862\n",
       "dtype: float64"
      ]
     },
     "execution_count": 37,
     "metadata": {},
     "output_type": "execute_result"
    }
   ],
   "source": [
    "hfi.skew()"
   ]
  },
  {
   "cell_type": "code",
   "execution_count": 38,
   "metadata": {},
   "outputs": [
    {
     "data": {
      "text/plain": [
       "Convertible Arbitrage     20.694912\n",
       "CTA Global                -0.024781\n",
       "Distressed Securities      5.007403\n",
       "Emerging Markets           6.394438\n",
       "Equity Market Neutral     14.515783\n",
       "Event Driven               5.156059\n",
       "Fixed Income Arbitrage    27.382747\n",
       "Global Macro               2.817691\n",
       "Long/Short Equity          1.576431\n",
       "Merger Arbitrage           5.872733\n",
       "Relative Value             9.320184\n",
       "Short Selling              3.201032\n",
       "Funds Of Funds             4.171770\n",
       "dtype: float64"
      ]
     },
     "execution_count": 38,
     "metadata": {},
     "output_type": "execute_result"
    }
   ],
   "source": [
    "hfi.kurtosis()"
   ]
  },
  {
   "cell_type": "code",
   "execution_count": 32,
   "metadata": {},
   "outputs": [],
   "source": [
    "alpha = 0.05\n",
    "z = norm.ppf(alpha)\n",
    "\n",
    "s = hfi.skew()\n",
    "k = hfi.kurtosis()\n",
    "\n",
    "z_updated = (\n",
    "    z + \n",
    "    (z**2 - 1) * s/6 +\n",
    "    (z**3 - 3*z) * (k-3)/24 -\n",
    "    (2*z**3 - 5*z) * (s**2)/36\n",
    ")"
   ]
  },
  {
   "cell_type": "code",
   "execution_count": 33,
   "metadata": {},
   "outputs": [
    {
     "data": {
      "text/plain": [
       "Convertible Arbitrage    -1.910015\n",
       "CTA Global               -1.655664\n",
       "Distressed Securities    -1.944091\n",
       "Emerging Markets         -1.884127\n",
       "Equity Market Neutral    -1.934065\n",
       "Event Driven             -1.966479\n",
       "Fixed Income Arbitrage   -1.984308\n",
       "Global Macro             -1.349169\n",
       "Long/Short Equity        -1.782251\n",
       "Merger Arbitrage         -1.931171\n",
       "Relative Value           -1.973713\n",
       "Short Selling            -1.410035\n",
       "Funds Of Funds           -1.722150\n",
       "dtype: float64"
      ]
     },
     "execution_count": 33,
     "metadata": {},
     "output_type": "execute_result"
    }
   ],
   "source": [
    "z_updated"
   ]
  },
  {
   "cell_type": "code",
   "execution_count": 34,
   "metadata": {
    "scrolled": true
   },
   "outputs": [
    {
     "data": {
      "text/plain": [
       "Convertible Arbitrage    -0.026136\n",
       "CTA Global               -0.034560\n",
       "Distressed Securities    -0.026185\n",
       "Emerging Markets         -0.055052\n",
       "Equity Market Neutral    -0.011226\n",
       "Event Driven             -0.026581\n",
       "Fixed Income Arbitrage   -0.018532\n",
       "Global Macro             -0.014459\n",
       "Long/Short Equity        -0.029198\n",
       "Merger Arbitrage         -0.013220\n",
       "Relative Value           -0.016874\n",
       "Short Selling            -0.069024\n",
       "Funds Of Funds           -0.022544\n",
       "dtype: float64"
      ]
     },
     "execution_count": 34,
     "metadata": {},
     "output_type": "execute_result"
    }
   ],
   "source": [
    "hfi.mean() + z_updated * hfi.std()"
   ]
  },
  {
   "cell_type": "markdown",
   "metadata": {},
   "source": [
    "# BeyondVar aka CVaR\n",
    "\n",
    "- Given you'll perform worse than the VaR, how much can you expect to lose?\n",
    "- Just compute the average of all returns that are below the VaR\n",
    "\n",
    "### Historic CVaR"
   ]
  },
  {
   "cell_type": "code",
   "execution_count": 35,
   "metadata": {},
   "outputs": [],
   "source": [
    "smallcap_var_05 = ffme['SmallCap'].quantile(0.05)"
   ]
  },
  {
   "cell_type": "code",
   "execution_count": 36,
   "metadata": {},
   "outputs": [
    {
     "data": {
      "text/plain": [
       "-0.16161228070175435"
      ]
     },
     "execution_count": 36,
     "metadata": {},
     "output_type": "execute_result"
    }
   ],
   "source": [
    "ffme['SmallCap'][ffme['SmallCap'] < smallcap_var_05].mean()"
   ]
  }
 ],
 "metadata": {
  "kernelspec": {
   "display_name": "Python 3",
   "language": "python",
   "name": "python3"
  },
  "language_info": {
   "codemirror_mode": {
    "name": "ipython",
    "version": 3
   },
   "file_extension": ".py",
   "mimetype": "text/x-python",
   "name": "python",
   "nbconvert_exporter": "python",
   "pygments_lexer": "ipython3",
   "version": "3.6.9"
  }
 },
 "nbformat": 4,
 "nbformat_minor": 2
}
