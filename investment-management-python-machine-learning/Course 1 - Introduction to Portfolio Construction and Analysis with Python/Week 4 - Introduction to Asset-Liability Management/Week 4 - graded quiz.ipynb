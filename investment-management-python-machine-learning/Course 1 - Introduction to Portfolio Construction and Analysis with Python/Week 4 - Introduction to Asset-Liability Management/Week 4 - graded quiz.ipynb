{
 "cells": [
  {
   "cell_type": "code",
   "execution_count": 1,
   "metadata": {},
   "outputs": [],
   "source": [
    "import pandas as pd\n",
    "import numpy as np\n",
    "import sys\n",
    "sys.path.append('..')\n",
    "import edhec_risk_kit as erk"
   ]
  },
  {
   "cell_type": "markdown",
   "metadata": {},
   "source": [
    "We will be working with three bonds:\n",
    "\n",
    "B1 is a 15 Year Bond with a Face Value of $1000 that pays a 5% coupon semi-annually (2 times a year)\n",
    "\n",
    "B2 is a 5 Year Bond with a Face value of $1000 that pays a 6% coupon quarterly (4 times a year)\n",
    "\n",
    "B3 is a 10 Year Zero-Coupon Bond with a Face Value of $1000\n",
    "\n",
    "(Hint: you can still use the erk.bond_cash_flows() and erk.bond_price() by setting the coupon amount to 0% and the coupons_per_year to 1)\n",
    "\n",
    "Assume the yield curve is flat at 5%."
   ]
  },
  {
   "cell_type": "code",
   "execution_count": 2,
   "metadata": {},
   "outputs": [],
   "source": [
    "discount_rate=0.05"
   ]
  },
  {
   "cell_type": "code",
   "execution_count": 3,
   "metadata": {},
   "outputs": [],
   "source": [
    "B1cf = erk.bond_cash_flows(\n",
    "    maturity=15,\n",
    "    principal=1000,\n",
    "    coupon_rate=0.05,\n",
    "    coupons_per_year=2\n",
    ")\n",
    "\n",
    "B2cf = erk.bond_cash_flows(\n",
    "    maturity=5,\n",
    "    principal=1000,\n",
    "    coupon_rate=0.06,\n",
    "    coupons_per_year=4\n",
    ")\n",
    "\n",
    "B3cf = erk.bond_cash_flows(\n",
    "    maturity=10,\n",
    "    principal=1000,\n",
    "    coupon_rate=0,\n",
    "    coupons_per_year=1\n",
    ")"
   ]
  },
  {
   "cell_type": "code",
   "execution_count": 4,
   "metadata": {},
   "outputs": [],
   "source": [
    "B1p = erk.bond_price(\n",
    "    maturity=15,\n",
    "    principal=1000,\n",
    "    coupon_rate=0.05,\n",
    "    coupons_per_year=2,\n",
    "    discount_rate=discount_rate\n",
    ")\n",
    "\n",
    "B2p = erk.bond_price(\n",
    "    maturity=5,\n",
    "    principal=1000,\n",
    "    coupon_rate=0.06,\n",
    "    coupons_per_year=4,\n",
    "    discount_rate=discount_rate\n",
    ")\n",
    "\n",
    "B3p = erk.bond_price(\n",
    "    maturity=10,\n",
    "    principal=1000,\n",
    "    coupon_rate=0,\n",
    "    coupons_per_year=1,\n",
    "    discount_rate=discount_rate\n",
    ")"
   ]
  },
  {
   "cell_type": "code",
   "execution_count": 5,
   "metadata": {},
   "outputs": [
    {
     "data": {
      "text/plain": [
       "1       25.0\n",
       "2       25.0\n",
       "3       25.0\n",
       "4       25.0\n",
       "5       25.0\n",
       "6       25.0\n",
       "7       25.0\n",
       "8       25.0\n",
       "9       25.0\n",
       "10      25.0\n",
       "11      25.0\n",
       "12      25.0\n",
       "13      25.0\n",
       "14      25.0\n",
       "15      25.0\n",
       "16      25.0\n",
       "17      25.0\n",
       "18      25.0\n",
       "19      25.0\n",
       "20      25.0\n",
       "21      25.0\n",
       "22      25.0\n",
       "23      25.0\n",
       "24      25.0\n",
       "25      25.0\n",
       "26      25.0\n",
       "27      25.0\n",
       "28      25.0\n",
       "29      25.0\n",
       "30    1025.0\n",
       "dtype: float64"
      ]
     },
     "execution_count": 5,
     "metadata": {},
     "output_type": "execute_result"
    }
   ],
   "source": [
    "B1cf"
   ]
  },
  {
   "cell_type": "code",
   "execution_count": 6,
   "metadata": {},
   "outputs": [
    {
     "data": {
      "text/plain": [
       "(0    1000.0\n",
       " dtype: float64, 0    1043.99829\n",
       " dtype: float64, 0    613.913254\n",
       " dtype: float64)"
      ]
     },
     "execution_count": 6,
     "metadata": {},
     "output_type": "execute_result"
    }
   ],
   "source": [
    "B1p, B2p, B3p"
   ]
  },
  {
   "cell_type": "code",
   "execution_count": 19,
   "metadata": {},
   "outputs": [],
   "source": [
    "B1_mac_d = erk.macaulay_duration(B1cf, discount_rate/2) / 2\n",
    "B2_mac_d = erk.macaulay_duration(B2cf, discount_rate/4) / 4\n",
    "B3_mac_d = erk.macaulay_duration(B3cf, discount_rate) "
   ]
  },
  {
   "cell_type": "code",
   "execution_count": 20,
   "metadata": {},
   "outputs": [
    {
     "data": {
      "text/plain": [
       "(10.72677495379012, 4.373363222636413, 10.0)"
      ]
     },
     "execution_count": 20,
     "metadata": {},
     "output_type": "execute_result"
    }
   ],
   "source": [
    "B1_mac_d, B2_mac_d, B3_mac_d"
   ]
  },
  {
   "cell_type": "markdown",
   "metadata": {},
   "source": [
    "# 7"
   ]
  },
  {
   "cell_type": "code",
   "execution_count": 22,
   "metadata": {},
   "outputs": [
    {
     "data": {
      "text/plain": [
       "6.750917852744651"
      ]
     },
     "execution_count": 22,
     "metadata": {},
     "output_type": "execute_result"
    }
   ],
   "source": [
    "erk.macaulay_duration(\n",
    "    pd.Series([100000, 200000, 300000], index=[3,5,10]),\n",
    "    discount_rate\n",
    ")"
   ]
  },
  {
   "cell_type": "code",
   "execution_count": null,
   "metadata": {},
   "outputs": [],
   "source": []
  }
 ],
 "metadata": {
  "kernelspec": {
   "display_name": "Python 3",
   "language": "python",
   "name": "python3"
  },
  "language_info": {
   "codemirror_mode": {
    "name": "ipython",
    "version": 3
   },
   "file_extension": ".py",
   "mimetype": "text/x-python",
   "name": "python",
   "nbconvert_exporter": "python",
   "pygments_lexer": "ipython3",
   "version": "3.6.9"
  }
 },
 "nbformat": 4,
 "nbformat_minor": 2
}
