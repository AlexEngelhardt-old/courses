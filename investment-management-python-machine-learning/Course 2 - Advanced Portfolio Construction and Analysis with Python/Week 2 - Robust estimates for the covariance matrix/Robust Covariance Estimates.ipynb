{
 "cells": [
  {
   "cell_type": "markdown",
   "metadata": {},
   "source": [
    "Modern portfolio theory was born with the efficient frontier analysis of Markowitz (1952). Unfortunately, early applications of the technique, based on naïve estimates of the input parameters, have been found to be of little use because they often lead to non-sensible portfolio allocations.\n",
    "\n",
    "The focus of this module is on bridging the gap between portfolio theory and portfolio construction by showing how to generate enhanced parameter estimates so as to improve the quality of the portfolio optimization outputs (optimal portfolio weights), with a focus on risk parameter estimates. We first address sample risk and explain how to improve covariance matrix estimation via the use of factor and/or Bayesian techniques and statistical shrinkage estimators.\n",
    "\n",
    "We then move on to addressing stationarity risk, namely the fact that risk parameters are not constant but move over time. We start with basic rolling-window and exponentially-weighted moving average analysis and then move on to the estimation of covariance parameters with autoregressive conditional heteroskedasticity and state-dependent models."
   ]
  },
  {
   "cell_type": "markdown",
   "metadata": {},
   "source": [
    "----\n",
    "\n",
    "# The Curse of Dimensionality\n",
    "\n",
    "a"
   ]
  },
  {
   "cell_type": "markdown",
   "metadata": {},
   "source": [
    "----\n",
    "\n",
    "# Estimating the Covariance Matrix with a Factor Model\n",
    "\n",
    "a"
   ]
  },
  {
   "cell_type": "markdown",
   "metadata": {},
   "source": [
    "----\n",
    "\n",
    "# Honey I Shrunk the Covariance Matrix!"
   ]
  },
  {
   "cell_type": "code",
   "execution_count": null,
   "metadata": {},
   "outputs": [],
   "source": [
    "s"
   ]
  }
 ],
 "metadata": {
  "kernelspec": {
   "display_name": "Python 3",
   "language": "python",
   "name": "python3"
  },
  "language_info": {
   "codemirror_mode": {
    "name": "ipython",
    "version": 3
   },
   "file_extension": ".py",
   "mimetype": "text/x-python",
   "name": "python",
   "nbconvert_exporter": "python",
   "pygments_lexer": "ipython3",
   "version": "3.6.9"
  }
 },
 "nbformat": 4,
 "nbformat_minor": 2
}
