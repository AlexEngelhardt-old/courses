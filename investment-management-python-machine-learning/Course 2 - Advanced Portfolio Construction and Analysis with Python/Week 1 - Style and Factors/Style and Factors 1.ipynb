{
 "cells": [
  {
   "cell_type": "markdown",
   "metadata": {},
   "source": [
    "In recent years there has been increasing recognition of the importance of factor models in portfolio construction and analysis.\n",
    "\n",
    "This first module provides an in-depth introduction to the most popular factor models used in investment practice, starting with William Sharpe’s **Capital Asset Pricing Model (CAPM)**, and then moving on multi-factor models.\n",
    "\n",
    "We also discuss **style analysis**, which can be regarded as a constrained form of factor model, and which has been applied to the analysis of the performance of active managers.\n",
    "\n",
    "Finally, we discuss the shortcomings of cap-weighted equity indices, including their inefficient exposure to rewarded risk factors, and we also discuss the recent “**smart beta**” approach, which has been introduced as a formal methodology allowing investors and asset managers to build more efficient portfolios. "
   ]
  },
  {
   "cell_type": "markdown",
   "metadata": {},
   "source": [
    "# Introduction to factor investing\n",
    "\n",
    "- The traditional choice was between **active and passive**.\n",
    "  - Passive: Don't try and outperform the index\n",
    "- New: Factor investing lies in-between. Build a systematic set of rules to try and outperform the S&P. \n",
    "  - Call it \"Low cost active\". It's not just the S&P500, *but* it's passive in the sense that there are no human, subjective decisions in there (after constructing the rules)\n",
    "- Indicization refers to the trend of creating new indices that capture the portion of active management that is rules based and systematic, and in the long run should outperform the cap-weighted benchmark.\n",
    "\n",
    "A factor investor looks at active funds and tries to figure out what are the **drivers** that provide that excess return (e.g. small size, or political risk). Then he figures out how to get them for himself, inexpensively.\n",
    "\n",
    "If you're willing to expose yourself to this factor, you'll be rewarded with a risk premium\n",
    "\n",
    "### Macro factors\n",
    "\n",
    "- Industrial growth\n",
    "- Inflation\n",
    "\n",
    "We don't use them because it's hard to find products that expose yourself to these factors\n",
    "\n",
    "### Statistical (or implicit) factors\n",
    "\n",
    "- Something extracted from the data that may or may not be identifiable.\n",
    "- These factors are often not obvious, not interpretable\n",
    "\n",
    "### Intrinsic (or *style*) factors\n",
    "\n",
    "The most common form of factor investing. These factors are *intrinsic* to a stock\n",
    "\n",
    "- Value vs. growth\n",
    "- Momentum\n",
    "- Low volatility\n"
   ]
  },
  {
   "cell_type": "code",
   "execution_count": null,
   "metadata": {},
   "outputs": [],
   "source": []
  }
 ],
 "metadata": {
  "kernelspec": {
   "display_name": "Python 3",
   "language": "python",
   "name": "python3"
  },
  "language_info": {
   "codemirror_mode": {
    "name": "ipython",
    "version": 3
   },
   "file_extension": ".py",
   "mimetype": "text/x-python",
   "name": "python",
   "nbconvert_exporter": "python",
   "pygments_lexer": "ipython3",
   "version": "3.6.9"
  }
 },
 "nbformat": 4,
 "nbformat_minor": 2
}
